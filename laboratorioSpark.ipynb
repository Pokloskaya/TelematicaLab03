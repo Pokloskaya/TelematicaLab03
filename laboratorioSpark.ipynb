{
  "nbformat": 4,
  "nbformat_minor": 0,
  "metadata": {
    "colab": {
      "provenance": []
    },
    "kernelspec": {
      "name": "python3",
      "display_name": "Python 3"
    },
    "language_info": {
      "name": "python"
    }
  },
  "cells": [
    {
      "cell_type": "code",
      "execution_count": null,
      "metadata": {
        "colab": {
          "base_uri": "https://localhost:8080/"
        },
        "id": "Qm9Y9-iUsIXt",
        "outputId": "4b08680c-e16d-4746-8c87-6f9bd92ce5de"
      },
      "outputs": [
        {
          "output_type": "stream",
          "name": "stdout",
          "text": [
            "Mounted at /content/gdrive\n"
          ]
        }
      ],
      "source": [
        "from google.colab import drive\n",
        "drive.mount('/content/gdrive')"
      ]
    },
    {
      "cell_type": "code",
      "source": [
        "#instalar java y spark\n",
        "!apt-get install openjdk-11-jdk-headless -qq > /dev/null\n",
        "!wget -q https://downloads.apache.org/spark/spark-3.5.1/spark-3.5.1-bin-hadoop3.tgz\n",
        "!tar xf spark-3.5.1-bin-hadoop3.tgz\n",
        "!pip install -q findspark"
      ],
      "metadata": {
        "id": "l1p6Fx5Ys0lG"
      },
      "execution_count": null,
      "outputs": []
    },
    {
      "cell_type": "code",
      "source": [
        "import os\n",
        "os.environ[\"JAVA_HOME\"] = \"/usr/lib/jvm/java-11-openjdk-amd64\"\n",
        "os.environ[\"SPARK_HOME\"] = \"/content/spark-3.5.1-bin-hadoop3\""
      ],
      "metadata": {
        "id": "ipDmGuQDtJ6T"
      },
      "execution_count": null,
      "outputs": []
    },
    {
      "cell_type": "code",
      "source": [
        "import findspark\n",
        "findspark.init()\n",
        "from pyspark.sql import SparkSession\n",
        "spark = SparkSession.builder.master(\"local[*]\").getOrCreate()\n",
        "sc = spark.sparkContext"
      ],
      "metadata": {
        "id": "OsIe71N7yvmq"
      },
      "execution_count": null,
      "outputs": []
    },
    {
      "cell_type": "code",
      "source": [
        "spark"
      ],
      "metadata": {
        "colab": {
          "base_uri": "https://localhost:8080/",
          "height": 219
        },
        "id": "GUfac3J5vfxt",
        "outputId": "4d7c21f3-5ada-4414-df9d-c182f268a686"
      },
      "execution_count": null,
      "outputs": [
        {
          "output_type": "execute_result",
          "data": {
            "text/plain": [
              "<pyspark.sql.session.SparkSession at 0x7cedc82144c0>"
            ],
            "text/html": [
              "\n",
              "            <div>\n",
              "                <p><b>SparkSession - in-memory</b></p>\n",
              "                \n",
              "        <div>\n",
              "            <p><b>SparkContext</b></p>\n",
              "\n",
              "            <p><a href=\"http://ae159eb8595f:4040\">Spark UI</a></p>\n",
              "\n",
              "            <dl>\n",
              "              <dt>Version</dt>\n",
              "                <dd><code>v3.5.1</code></dd>\n",
              "              <dt>Master</dt>\n",
              "                <dd><code>local[*]</code></dd>\n",
              "              <dt>AppName</dt>\n",
              "                <dd><code>pyspark-shell</code></dd>\n",
              "            </dl>\n",
              "        </div>\n",
              "        \n",
              "            </div>\n",
              "        "
            ]
          },
          "metadata": {},
          "execution_count": 5
        }
      ]
    },
    {
      "cell_type": "code",
      "source": [
        "sc"
      ],
      "metadata": {
        "colab": {
          "base_uri": "https://localhost:8080/",
          "height": 196
        },
        "id": "fs-_dwb1vzdG",
        "outputId": "99ca10d9-fd2a-4b06-f6d8-5f681b2d5ef3"
      },
      "execution_count": null,
      "outputs": [
        {
          "output_type": "execute_result",
          "data": {
            "text/plain": [
              "<SparkContext master=local[*] appName=pyspark-shell>"
            ],
            "text/html": [
              "\n",
              "        <div>\n",
              "            <p><b>SparkContext</b></p>\n",
              "\n",
              "            <p><a href=\"http://ae159eb8595f:4040\">Spark UI</a></p>\n",
              "\n",
              "            <dl>\n",
              "              <dt>Version</dt>\n",
              "                <dd><code>v3.5.1</code></dd>\n",
              "              <dt>Master</dt>\n",
              "                <dd><code>local[*]</code></dd>\n",
              "              <dt>AppName</dt>\n",
              "                <dd><code>pyspark-shell</code></dd>\n",
              "            </dl>\n",
              "        </div>\n",
              "        "
            ]
          },
          "metadata": {},
          "execution_count": 6
        }
      ]
    },
    {
      "cell_type": "code",
      "source": [
        "df=spark.read.csv('gdrive/MyDrive/datasets/sample_data.csv',inferSchema=True,header=True)"
      ],
      "metadata": {
        "id": "Z5bjW0JzyIiX"
      },
      "execution_count": null,
      "outputs": []
    },
    {
      "cell_type": "code",
      "source": [
        "#columns of dataframe\n",
        "df.columns"
      ],
      "metadata": {
        "colab": {
          "base_uri": "https://localhost:8080/"
        },
        "id": "8cvpCScKy77D",
        "outputId": "9c8d5e36-614b-4c93-fbd3-f2a6cc4cb2a8"
      },
      "execution_count": null,
      "outputs": [
        {
          "output_type": "execute_result",
          "data": {
            "text/plain": [
              "['ratings', 'age', 'experience', 'family', 'mobile']"
            ]
          },
          "metadata": {},
          "execution_count": 9
        }
      ]
    },
    {
      "cell_type": "code",
      "source": [
        "#check number of columns\n",
        "len(df.columns)"
      ],
      "metadata": {
        "colab": {
          "base_uri": "https://localhost:8080/"
        },
        "id": "dbIgxSBPy_uz",
        "outputId": "b1a6078c-1b21-4134-c71d-232915bbb951"
      },
      "execution_count": null,
      "outputs": [
        {
          "output_type": "execute_result",
          "data": {
            "text/plain": [
              "5"
            ]
          },
          "metadata": {},
          "execution_count": 10
        }
      ]
    },
    {
      "cell_type": "code",
      "source": [
        "#number of records in dataframe\n",
        "df.count()"
      ],
      "metadata": {
        "colab": {
          "base_uri": "https://localhost:8080/"
        },
        "id": "gL19VRINKywX",
        "outputId": "5d73e540-15f1-411e-e8a5-ef5ee8c89ac9"
      },
      "execution_count": null,
      "outputs": [
        {
          "output_type": "execute_result",
          "data": {
            "text/plain": [
              "33"
            ]
          },
          "metadata": {},
          "execution_count": 11
        }
      ]
    },
    {
      "cell_type": "code",
      "source": [
        "#shape of dataset\n",
        "print((df.count(),len(df.columns)))"
      ],
      "metadata": {
        "colab": {
          "base_uri": "https://localhost:8080/"
        },
        "id": "eBDaI-i1K3Dn",
        "outputId": "b3159c3b-04ba-4244-ac64-4075bbd6de42"
      },
      "execution_count": null,
      "outputs": [
        {
          "output_type": "stream",
          "name": "stdout",
          "text": [
            "(33, 5)\n"
          ]
        }
      ]
    },
    {
      "cell_type": "code",
      "source": [
        "#printSchema\n",
        "df.printSchema()"
      ],
      "metadata": {
        "colab": {
          "base_uri": "https://localhost:8080/"
        },
        "id": "IKx-mO6dK5qv",
        "outputId": "52b21359-e417-4f9e-d1f6-80f0f76ef26d"
      },
      "execution_count": null,
      "outputs": [
        {
          "output_type": "stream",
          "name": "stdout",
          "text": [
            "root\n",
            " |-- ratings: integer (nullable = true)\n",
            " |-- age: integer (nullable = true)\n",
            " |-- experience: double (nullable = true)\n",
            " |-- family: integer (nullable = true)\n",
            " |-- mobile: string (nullable = true)\n",
            "\n"
          ]
        }
      ]
    },
    {
      "cell_type": "code",
      "source": [
        "#fisrt few rows of dataframe\n",
        "df.show(5)"
      ],
      "metadata": {
        "colab": {
          "base_uri": "https://localhost:8080/"
        },
        "id": "4_OxhyKnK704",
        "outputId": "71477513-ea8a-43da-e622-65f0c077d0af"
      },
      "execution_count": null,
      "outputs": [
        {
          "output_type": "stream",
          "name": "stdout",
          "text": [
            "+-------+---+----------+------+-------+\n",
            "|ratings|age|experience|family| mobile|\n",
            "+-------+---+----------+------+-------+\n",
            "|      3| 32|       9.0|     3|   Vivo|\n",
            "|      3| 27|      13.0|     3|  Apple|\n",
            "|      4| 22|       2.5|     0|Samsung|\n",
            "|      4| 37|      16.5|     4|  Apple|\n",
            "|      5| 27|       9.0|     1|     MI|\n",
            "+-------+---+----------+------+-------+\n",
            "only showing top 5 rows\n",
            "\n"
          ]
        }
      ]
    },
    {
      "cell_type": "code",
      "source": [
        "#select only 2 columns\n",
        "df.select('age','mobile').show(5)"
      ],
      "metadata": {
        "colab": {
          "base_uri": "https://localhost:8080/"
        },
        "id": "wei3YMh4LJwo",
        "outputId": "f04e9d0c-77f6-4c45-e645-282203869e24"
      },
      "execution_count": null,
      "outputs": [
        {
          "output_type": "stream",
          "name": "stdout",
          "text": [
            "+---+-------+\n",
            "|age| mobile|\n",
            "+---+-------+\n",
            "| 32|   Vivo|\n",
            "| 27|  Apple|\n",
            "| 22|Samsung|\n",
            "| 37|  Apple|\n",
            "| 27|     MI|\n",
            "+---+-------+\n",
            "only showing top 5 rows\n",
            "\n"
          ]
        }
      ]
    },
    {
      "cell_type": "code",
      "source": [
        "#info about dataframe\n",
        "df.describe().show()"
      ],
      "metadata": {
        "id": "_eIguBLTzCCj",
        "colab": {
          "base_uri": "https://localhost:8080/"
        },
        "outputId": "20392288-9cb3-4892-d4fc-f754685597df"
      },
      "execution_count": null,
      "outputs": [
        {
          "output_type": "stream",
          "name": "stdout",
          "text": [
            "+-------+------------------+------------------+------------------+------------------+------+\n",
            "|summary|           ratings|               age|        experience|            family|mobile|\n",
            "+-------+------------------+------------------+------------------+------------------+------+\n",
            "|  count|                33|                33|                33|                33|    33|\n",
            "|   mean|3.5757575757575757|30.484848484848484|10.303030303030303|1.8181818181818181|  NULL|\n",
            "| stddev|1.1188806636071336|  6.18527087180309| 6.770731351213326|1.8448330794164254|  NULL|\n",
            "|    min|                 1|                22|               2.5|                 0| Apple|\n",
            "|    max|                 5|                42|              23.0|                 5|  Vivo|\n",
            "+-------+------------------+------------------+------------------+------------------+------+\n",
            "\n"
          ]
        }
      ]
    },
    {
      "cell_type": "code",
      "source": [
        "from pyspark.sql.types import StringType,DoubleType,IntegerType"
      ],
      "metadata": {
        "id": "gOMRfUqXLNUw"
      },
      "execution_count": null,
      "outputs": []
    },
    {
      "cell_type": "code",
      "source": [
        "#with column\n",
        "df.withColumn(\"age_after_10_yrs\",(df[\"age\"]+10)).show(10,False)"
      ],
      "metadata": {
        "colab": {
          "base_uri": "https://localhost:8080/"
        },
        "id": "PgoT7-4nLQ7Y",
        "outputId": "b395e312-142a-4f66-8efa-6df4513b4e87"
      },
      "execution_count": null,
      "outputs": [
        {
          "output_type": "stream",
          "name": "stdout",
          "text": [
            "+-------+---+----------+------+-------+----------------+\n",
            "|ratings|age|experience|family|mobile |age_after_10_yrs|\n",
            "+-------+---+----------+------+-------+----------------+\n",
            "|3      |32 |9.0       |3     |Vivo   |42              |\n",
            "|3      |27 |13.0      |3     |Apple  |37              |\n",
            "|4      |22 |2.5       |0     |Samsung|32              |\n",
            "|4      |37 |16.5      |4     |Apple  |47              |\n",
            "|5      |27 |9.0       |1     |MI     |37              |\n",
            "|4      |27 |9.0       |0     |Oppo   |37              |\n",
            "|5      |37 |23.0      |5     |Vivo   |47              |\n",
            "|5      |37 |23.0      |5     |Samsung|47              |\n",
            "|3      |22 |2.5       |0     |Apple  |32              |\n",
            "|3      |27 |6.0       |0     |MI     |37              |\n",
            "+-------+---+----------+------+-------+----------------+\n",
            "only showing top 10 rows\n",
            "\n"
          ]
        }
      ]
    },
    {
      "cell_type": "code",
      "source": [
        "df.withColumn('age_double',df['age'].cast(DoubleType())).show(10,False)"
      ],
      "metadata": {
        "colab": {
          "base_uri": "https://localhost:8080/"
        },
        "id": "Pakf856uLSio",
        "outputId": "c015eeea-43d7-42f8-ac02-b576a419361b"
      },
      "execution_count": null,
      "outputs": [
        {
          "output_type": "stream",
          "name": "stdout",
          "text": [
            "+-------+---+----------+------+-------+----------+\n",
            "|ratings|age|experience|family|mobile |age_double|\n",
            "+-------+---+----------+------+-------+----------+\n",
            "|3      |32 |9.0       |3     |Vivo   |32.0      |\n",
            "|3      |27 |13.0      |3     |Apple  |27.0      |\n",
            "|4      |22 |2.5       |0     |Samsung|22.0      |\n",
            "|4      |37 |16.5      |4     |Apple  |37.0      |\n",
            "|5      |27 |9.0       |1     |MI     |27.0      |\n",
            "|4      |27 |9.0       |0     |Oppo   |27.0      |\n",
            "|5      |37 |23.0      |5     |Vivo   |37.0      |\n",
            "|5      |37 |23.0      |5     |Samsung|37.0      |\n",
            "|3      |22 |2.5       |0     |Apple  |22.0      |\n",
            "|3      |27 |6.0       |0     |MI     |27.0      |\n",
            "+-------+---+----------+------+-------+----------+\n",
            "only showing top 10 rows\n",
            "\n"
          ]
        }
      ]
    },
    {
      "cell_type": "code",
      "source": [
        "#with column\n",
        "df.withColumn(\"age_after_10_yrs\",(df[\"age\"]+10)).show(10,False)"
      ],
      "metadata": {
        "colab": {
          "base_uri": "https://localhost:8080/"
        },
        "id": "sSGX44YMLT9Y",
        "outputId": "a27a150e-a000-428e-ada8-60535368ecad"
      },
      "execution_count": null,
      "outputs": [
        {
          "output_type": "stream",
          "name": "stdout",
          "text": [
            "+-------+---+----------+------+-------+----------------+\n",
            "|ratings|age|experience|family|mobile |age_after_10_yrs|\n",
            "+-------+---+----------+------+-------+----------------+\n",
            "|3      |32 |9.0       |3     |Vivo   |42              |\n",
            "|3      |27 |13.0      |3     |Apple  |37              |\n",
            "|4      |22 |2.5       |0     |Samsung|32              |\n",
            "|4      |37 |16.5      |4     |Apple  |47              |\n",
            "|5      |27 |9.0       |1     |MI     |37              |\n",
            "|4      |27 |9.0       |0     |Oppo   |37              |\n",
            "|5      |37 |23.0      |5     |Vivo   |47              |\n",
            "|5      |37 |23.0      |5     |Samsung|47              |\n",
            "|3      |22 |2.5       |0     |Apple  |32              |\n",
            "|3      |27 |6.0       |0     |MI     |37              |\n",
            "+-------+---+----------+------+-------+----------------+\n",
            "only showing top 10 rows\n",
            "\n"
          ]
        }
      ]
    },
    {
      "cell_type": "code",
      "source": [
        "#filter the records\n",
        "df.filter(df['mobile']=='Vivo').show()"
      ],
      "metadata": {
        "colab": {
          "base_uri": "https://localhost:8080/"
        },
        "id": "YsZzvGUkLVX4",
        "outputId": "b7fc6362-fd00-4df5-ab91-0e09190b4d77"
      },
      "execution_count": null,
      "outputs": [
        {
          "output_type": "stream",
          "name": "stdout",
          "text": [
            "+-------+---+----------+------+------+\n",
            "|ratings|age|experience|family|mobile|\n",
            "+-------+---+----------+------+------+\n",
            "|      3| 32|       9.0|     3|  Vivo|\n",
            "|      5| 37|      23.0|     5|  Vivo|\n",
            "|      4| 37|       6.0|     0|  Vivo|\n",
            "|      5| 37|      13.0|     1|  Vivo|\n",
            "|      4| 37|       6.0|     0|  Vivo|\n",
            "+-------+---+----------+------+------+\n",
            "\n"
          ]
        }
      ]
    },
    {
      "cell_type": "code",
      "source": [
        "#filter the records\n",
        "df.filter(df['mobile']=='Vivo').select('age','ratings','mobile').show()"
      ],
      "metadata": {
        "colab": {
          "base_uri": "https://localhost:8080/"
        },
        "id": "kOhmfpqRLXP4",
        "outputId": "488c0a1f-d299-45d3-99c8-2829dfc37959"
      },
      "execution_count": null,
      "outputs": [
        {
          "output_type": "stream",
          "name": "stdout",
          "text": [
            "+---+-------+------+\n",
            "|age|ratings|mobile|\n",
            "+---+-------+------+\n",
            "| 32|      3|  Vivo|\n",
            "| 37|      5|  Vivo|\n",
            "| 37|      4|  Vivo|\n",
            "| 37|      5|  Vivo|\n",
            "| 37|      4|  Vivo|\n",
            "+---+-------+------+\n",
            "\n"
          ]
        }
      ]
    },
    {
      "cell_type": "code",
      "source": [
        "#filter the multiple conditions\n",
        "df.filter(df['mobile']=='Vivo').filter(df['experience'] >10).show()"
      ],
      "metadata": {
        "colab": {
          "base_uri": "https://localhost:8080/"
        },
        "id": "3gcF21UzLnY4",
        "outputId": "93faf69f-a1c1-4cef-cdad-cda0f076bc70"
      },
      "execution_count": null,
      "outputs": [
        {
          "output_type": "stream",
          "name": "stdout",
          "text": [
            "+-------+---+----------+------+------+\n",
            "|ratings|age|experience|family|mobile|\n",
            "+-------+---+----------+------+------+\n",
            "|      5| 37|      23.0|     5|  Vivo|\n",
            "|      5| 37|      13.0|     1|  Vivo|\n",
            "+-------+---+----------+------+------+\n",
            "\n"
          ]
        }
      ]
    },
    {
      "cell_type": "code",
      "source": [
        "#filter the multiple conditions\n",
        "df.filter((df['mobile']=='Vivo')&(df['experience'] >10)).show()"
      ],
      "metadata": {
        "colab": {
          "base_uri": "https://localhost:8080/"
        },
        "id": "cOUlHujHL7Jw",
        "outputId": "ce629260-df38-4ad8-d874-ccc6adcb0514"
      },
      "execution_count": null,
      "outputs": [
        {
          "output_type": "stream",
          "name": "stdout",
          "text": [
            "+-------+---+----------+------+------+\n",
            "|ratings|age|experience|family|mobile|\n",
            "+-------+---+----------+------+------+\n",
            "|      5| 37|      23.0|     5|  Vivo|\n",
            "|      5| 37|      13.0|     1|  Vivo|\n",
            "+-------+---+----------+------+------+\n",
            "\n"
          ]
        }
      ]
    },
    {
      "cell_type": "code",
      "source": [
        "#Distinct Values in a column\n",
        "df.select('mobile').distinct().show()"
      ],
      "metadata": {
        "colab": {
          "base_uri": "https://localhost:8080/"
        },
        "id": "0wPNNKwpLrEg",
        "outputId": "c97f10b7-4f28-4c33-bc19-98fe92d974c7"
      },
      "execution_count": null,
      "outputs": [
        {
          "output_type": "stream",
          "name": "stdout",
          "text": [
            "+-------+\n",
            "| mobile|\n",
            "+-------+\n",
            "|     MI|\n",
            "|   Oppo|\n",
            "|Samsung|\n",
            "|   Vivo|\n",
            "|  Apple|\n",
            "+-------+\n",
            "\n"
          ]
        }
      ]
    },
    {
      "cell_type": "code",
      "source": [
        "#distinct value count\n",
        "df.select('mobile').distinct().count()"
      ],
      "metadata": {
        "colab": {
          "base_uri": "https://localhost:8080/"
        },
        "id": "hnON-Pf4Lv4B",
        "outputId": "cfb97bb9-f899-4335-9345-0647653a4242"
      },
      "execution_count": null,
      "outputs": [
        {
          "output_type": "execute_result",
          "data": {
            "text/plain": [
              "5"
            ]
          },
          "metadata": {},
          "execution_count": 26
        }
      ]
    },
    {
      "cell_type": "code",
      "source": [
        "df.groupBy('mobile').count().show(5,False)"
      ],
      "metadata": {
        "colab": {
          "base_uri": "https://localhost:8080/"
        },
        "id": "rwYsyMtwLxsw",
        "outputId": "1dac0344-a603-44bc-c8e8-2f3b6bbeade6"
      },
      "execution_count": null,
      "outputs": [
        {
          "output_type": "stream",
          "name": "stdout",
          "text": [
            "+-------+-----+\n",
            "|mobile |count|\n",
            "+-------+-----+\n",
            "|MI     |8    |\n",
            "|Oppo   |7    |\n",
            "|Samsung|6    |\n",
            "|Vivo   |5    |\n",
            "|Apple  |7    |\n",
            "+-------+-----+\n",
            "\n"
          ]
        }
      ]
    },
    {
      "cell_type": "code",
      "source": [
        "# Value counts\n",
        "df.groupBy('mobile').count().orderBy('count',ascending=False).show(5,False)"
      ],
      "metadata": {
        "colab": {
          "base_uri": "https://localhost:8080/"
        },
        "id": "KKYMUBq-LzLR",
        "outputId": "e831a0af-e944-4a5a-e3fb-cf125defcf44"
      },
      "execution_count": null,
      "outputs": [
        {
          "output_type": "stream",
          "name": "stdout",
          "text": [
            "+-------+-----+\n",
            "|mobile |count|\n",
            "+-------+-----+\n",
            "|MI     |8    |\n",
            "|Oppo   |7    |\n",
            "|Apple  |7    |\n",
            "|Samsung|6    |\n",
            "|Vivo   |5    |\n",
            "+-------+-----+\n",
            "\n"
          ]
        }
      ]
    },
    {
      "cell_type": "code",
      "source": [
        "# Value counts\n",
        "df.groupBy('mobile').mean().show(5,False)"
      ],
      "metadata": {
        "colab": {
          "base_uri": "https://localhost:8080/"
        },
        "id": "jrw1AjiXL-aA",
        "outputId": "97f8ea91-7cab-43c6-a632-9be698395cef"
      },
      "execution_count": null,
      "outputs": [
        {
          "output_type": "stream",
          "name": "stdout",
          "text": [
            "+-------+------------------+------------------+------------------+------------------+\n",
            "|mobile |avg(ratings)      |avg(age)          |avg(experience)   |avg(family)       |\n",
            "+-------+------------------+------------------+------------------+------------------+\n",
            "|MI     |3.5               |30.125            |10.1875           |1.375             |\n",
            "|Oppo   |2.857142857142857 |28.428571428571427|10.357142857142858|1.4285714285714286|\n",
            "|Samsung|4.166666666666667 |28.666666666666668|8.666666666666666 |1.8333333333333333|\n",
            "|Vivo   |4.2               |36.0              |11.4              |1.8               |\n",
            "|Apple  |3.4285714285714284|30.571428571428573|11.0              |2.7142857142857144|\n",
            "+-------+------------------+------------------+------------------+------------------+\n",
            "\n"
          ]
        }
      ]
    },
    {
      "cell_type": "code",
      "source": [
        "df.groupBy('mobile').sum().show(5,False)"
      ],
      "metadata": {
        "colab": {
          "base_uri": "https://localhost:8080/"
        },
        "id": "aLYhJz9_L8eh",
        "outputId": "183d9d13-5bd7-46fc-81f3-1fbad19e7818"
      },
      "execution_count": null,
      "outputs": [
        {
          "output_type": "stream",
          "name": "stdout",
          "text": [
            "+-------+------------+--------+---------------+-----------+\n",
            "|mobile |sum(ratings)|sum(age)|sum(experience)|sum(family)|\n",
            "+-------+------------+--------+---------------+-----------+\n",
            "|MI     |28          |241     |81.5           |11         |\n",
            "|Oppo   |20          |199     |72.5           |10         |\n",
            "|Samsung|25          |172     |52.0           |11         |\n",
            "|Vivo   |21          |180     |57.0           |9          |\n",
            "|Apple  |24          |214     |77.0           |19         |\n",
            "+-------+------------+--------+---------------+-----------+\n",
            "\n"
          ]
        }
      ]
    },
    {
      "cell_type": "code",
      "source": [
        "# Value counts\n",
        "df.groupBy('mobile').max().show(5,False)\n",
        "# Value counts\n",
        "df.groupBy('mobile').min().show(5,False)"
      ],
      "metadata": {
        "colab": {
          "base_uri": "https://localhost:8080/"
        },
        "id": "RhU5mZ2WMAgy",
        "outputId": "236a93ee-1f47-40ac-b5f6-a3a98bec6c36"
      },
      "execution_count": null,
      "outputs": [
        {
          "output_type": "stream",
          "name": "stdout",
          "text": [
            "+-------+------------+--------+---------------+-----------+\n",
            "|mobile |max(ratings)|max(age)|max(experience)|max(family)|\n",
            "+-------+------------+--------+---------------+-----------+\n",
            "|MI     |5           |42      |23.0           |5          |\n",
            "|Oppo   |4           |42      |23.0           |2          |\n",
            "|Samsung|5           |37      |23.0           |5          |\n",
            "|Vivo   |5           |37      |23.0           |5          |\n",
            "|Apple  |4           |37      |16.5           |5          |\n",
            "+-------+------------+--------+---------------+-----------+\n",
            "\n",
            "+-------+------------+--------+---------------+-----------+\n",
            "|mobile |min(ratings)|min(age)|min(experience)|min(family)|\n",
            "+-------+------------+--------+---------------+-----------+\n",
            "|MI     |1           |27      |2.5            |0          |\n",
            "|Oppo   |2           |22      |6.0            |0          |\n",
            "|Samsung|2           |22      |2.5            |0          |\n",
            "|Vivo   |3           |32      |6.0            |0          |\n",
            "|Apple  |3           |22      |2.5            |0          |\n",
            "+-------+------------+--------+---------------+-----------+\n",
            "\n"
          ]
        }
      ]
    },
    {
      "cell_type": "code",
      "source": [
        "#Aggregation\n",
        "df.groupBy('mobile').agg({'experience':'sum'}).show(5,False)"
      ],
      "metadata": {
        "colab": {
          "base_uri": "https://localhost:8080/"
        },
        "id": "iskhPkUNMGtg",
        "outputId": "b8f31e8b-d7f9-454d-c292-ac24a4503180"
      },
      "execution_count": null,
      "outputs": [
        {
          "output_type": "stream",
          "name": "stdout",
          "text": [
            "+-------+---------------+\n",
            "|mobile |sum(experience)|\n",
            "+-------+---------------+\n",
            "|MI     |81.5           |\n",
            "|Oppo   |72.5           |\n",
            "|Samsung|52.0           |\n",
            "|Vivo   |57.0           |\n",
            "|Apple  |77.0           |\n",
            "+-------+---------------+\n",
            "\n"
          ]
        }
      ]
    },
    {
      "cell_type": "code",
      "source": [
        "# UDF\n",
        "from pyspark.sql.functions import udf"
      ],
      "metadata": {
        "id": "qa6k5S3cMJ5Y"
      },
      "execution_count": null,
      "outputs": []
    },
    {
      "cell_type": "code",
      "source": [
        "#normal function\n",
        "def price_range(brand):\n",
        "    if brand in ['Samsung','Apple']:\n",
        "        return 'High Price'\n",
        "    elif brand =='MI':\n",
        "        return 'Mid Price'\n",
        "    else:\n",
        "        return 'Low Price'"
      ],
      "metadata": {
        "id": "bTgxOrUrMNIw"
      },
      "execution_count": null,
      "outputs": []
    },
    {
      "cell_type": "code",
      "source": [
        "#create udf using python function\n",
        "brand_udf=udf(price_range,StringType())\n",
        "#apply udf on dataframe\n",
        "df.withColumn('price_range',brand_udf(df['mobile'])).show(10,False)"
      ],
      "metadata": {
        "colab": {
          "base_uri": "https://localhost:8080/"
        },
        "id": "Zc2RxAtAMOvA",
        "outputId": "466afbf5-40c2-434e-9d61-2815b5d4932f"
      },
      "execution_count": null,
      "outputs": [
        {
          "output_type": "stream",
          "name": "stdout",
          "text": [
            "+-------+---+----------+------+-------+-----------+\n",
            "|ratings|age|experience|family|mobile |price_range|\n",
            "+-------+---+----------+------+-------+-----------+\n",
            "|3      |32 |9.0       |3     |Vivo   |Low Price  |\n",
            "|3      |27 |13.0      |3     |Apple  |High Price |\n",
            "|4      |22 |2.5       |0     |Samsung|High Price |\n",
            "|4      |37 |16.5      |4     |Apple  |High Price |\n",
            "|5      |27 |9.0       |1     |MI     |Mid Price  |\n",
            "|4      |27 |9.0       |0     |Oppo   |Low Price  |\n",
            "|5      |37 |23.0      |5     |Vivo   |Low Price  |\n",
            "|5      |37 |23.0      |5     |Samsung|High Price |\n",
            "|3      |22 |2.5       |0     |Apple  |High Price |\n",
            "|3      |27 |6.0       |0     |MI     |Mid Price  |\n",
            "+-------+---+----------+------+-------+-----------+\n",
            "only showing top 10 rows\n",
            "\n"
          ]
        }
      ]
    },
    {
      "cell_type": "code",
      "source": [
        "#using lambda function\n",
        "age_udf = udf(lambda age: \"young\" if age <= 30 else \"senior\", StringType())\n",
        "#apply udf on dataframe\n",
        "df.withColumn(\"age_group\", age_udf(df.age)).show(10,False)"
      ],
      "metadata": {
        "colab": {
          "base_uri": "https://localhost:8080/"
        },
        "id": "kHo-aVZvMQeg",
        "outputId": "b70b37db-6fe4-485d-b051-1b9a2efccf0b"
      },
      "execution_count": null,
      "outputs": [
        {
          "output_type": "stream",
          "name": "stdout",
          "text": [
            "+-------+---+----------+------+-------+---------+\n",
            "|ratings|age|experience|family|mobile |age_group|\n",
            "+-------+---+----------+------+-------+---------+\n",
            "|3      |32 |9.0       |3     |Vivo   |senior   |\n",
            "|3      |27 |13.0      |3     |Apple  |young    |\n",
            "|4      |22 |2.5       |0     |Samsung|young    |\n",
            "|4      |37 |16.5      |4     |Apple  |senior   |\n",
            "|5      |27 |9.0       |1     |MI     |young    |\n",
            "|4      |27 |9.0       |0     |Oppo   |young    |\n",
            "|5      |37 |23.0      |5     |Vivo   |senior   |\n",
            "|5      |37 |23.0      |5     |Samsung|senior   |\n",
            "|3      |22 |2.5       |0     |Apple  |young    |\n",
            "|3      |27 |6.0       |0     |MI     |young    |\n",
            "+-------+---+----------+------+-------+---------+\n",
            "only showing top 10 rows\n",
            "\n"
          ]
        }
      ]
    },
    {
      "cell_type": "code",
      "source": [
        "#pandas udf\n",
        "from pyspark.sql.functions import pandas_udf, PandasUDFType"
      ],
      "metadata": {
        "id": "IO7jXGoRMSHg"
      },
      "execution_count": null,
      "outputs": []
    },
    {
      "cell_type": "code",
      "source": [
        "#create python function\n",
        "def remaining_yrs(age):\n",
        "    yrs_left=100-age\n",
        "\n",
        "    return yrs_left"
      ],
      "metadata": {
        "id": "CwGRGaF5MTqA"
      },
      "execution_count": null,
      "outputs": []
    },
    {
      "cell_type": "code",
      "source": [
        "#create udf using python function\n",
        "length_udf = pandas_udf(remaining_yrs, IntegerType())\n",
        "#apply pandas udf on dataframe\n",
        "df.withColumn(\"yrs_left\", length_udf(df['age'])).show(10,False)"
      ],
      "metadata": {
        "colab": {
          "base_uri": "https://localhost:8080/"
        },
        "id": "LTmmX9qUMVeI",
        "outputId": "4b981d67-dda5-4303-81a6-34eeec1745fa"
      },
      "execution_count": null,
      "outputs": [
        {
          "output_type": "stream",
          "name": "stdout",
          "text": [
            "+-------+---+----------+------+-------+--------+\n",
            "|ratings|age|experience|family|mobile |yrs_left|\n",
            "+-------+---+----------+------+-------+--------+\n",
            "|3      |32 |9.0       |3     |Vivo   |68      |\n",
            "|3      |27 |13.0      |3     |Apple  |73      |\n",
            "|4      |22 |2.5       |0     |Samsung|78      |\n",
            "|4      |37 |16.5      |4     |Apple  |63      |\n",
            "|5      |27 |9.0       |1     |MI     |73      |\n",
            "|4      |27 |9.0       |0     |Oppo   |73      |\n",
            "|5      |37 |23.0      |5     |Vivo   |63      |\n",
            "|5      |37 |23.0      |5     |Samsung|63      |\n",
            "|3      |22 |2.5       |0     |Apple  |78      |\n",
            "|3      |27 |6.0       |0     |MI     |73      |\n",
            "+-------+---+----------+------+-------+--------+\n",
            "only showing top 10 rows\n",
            "\n"
          ]
        }
      ]
    },
    {
      "cell_type": "code",
      "source": [
        "#udf using two columns\n",
        "def prod(rating,exp):\n",
        "    x=rating*exp\n",
        "    return x"
      ],
      "metadata": {
        "id": "_PwdTK1cMWqw"
      },
      "execution_count": null,
      "outputs": []
    },
    {
      "cell_type": "code",
      "source": [
        "#create udf using python function\n",
        "prod_udf = pandas_udf(prod, DoubleType())\n",
        "#apply pandas udf on multiple columns of dataframe\n",
        "df.withColumn(\"product\", prod_udf(df['ratings'],df['experience'])).show(10,False)"
      ],
      "metadata": {
        "colab": {
          "base_uri": "https://localhost:8080/"
        },
        "id": "hLM0KNEnMX-x",
        "outputId": "bf527a1f-2c31-477b-90db-df12e4a55c5d"
      },
      "execution_count": null,
      "outputs": [
        {
          "output_type": "stream",
          "name": "stdout",
          "text": [
            "+-------+---+----------+------+-------+-------+\n",
            "|ratings|age|experience|family|mobile |product|\n",
            "+-------+---+----------+------+-------+-------+\n",
            "|3      |32 |9.0       |3     |Vivo   |27.0   |\n",
            "|3      |27 |13.0      |3     |Apple  |39.0   |\n",
            "|4      |22 |2.5       |0     |Samsung|10.0   |\n",
            "|4      |37 |16.5      |4     |Apple  |66.0   |\n",
            "|5      |27 |9.0       |1     |MI     |45.0   |\n",
            "|4      |27 |9.0       |0     |Oppo   |36.0   |\n",
            "|5      |37 |23.0      |5     |Vivo   |115.0  |\n",
            "|5      |37 |23.0      |5     |Samsung|115.0  |\n",
            "|3      |22 |2.5       |0     |Apple  |7.5    |\n",
            "|3      |27 |6.0       |0     |MI     |18.0   |\n",
            "+-------+---+----------+------+-------+-------+\n",
            "only showing top 10 rows\n",
            "\n"
          ]
        }
      ]
    },
    {
      "cell_type": "code",
      "source": [
        "#duplicate values\n",
        "df.count()"
      ],
      "metadata": {
        "colab": {
          "base_uri": "https://localhost:8080/"
        },
        "id": "dy6Qm6cyMaEw",
        "outputId": "b53d6c9c-8ed2-4327-fe16-16dd77b36d66"
      },
      "execution_count": null,
      "outputs": [
        {
          "output_type": "execute_result",
          "data": {
            "text/plain": [
              "26"
            ]
          },
          "metadata": {},
          "execution_count": 50
        }
      ]
    },
    {
      "cell_type": "code",
      "source": [
        "#drop duplicate values\n",
        "df=df.dropDuplicates()"
      ],
      "metadata": {
        "id": "NH9XRp_9MeEZ"
      },
      "execution_count": null,
      "outputs": []
    },
    {
      "cell_type": "code",
      "source": [
        "#validate new count\n",
        "df.count()"
      ],
      "metadata": {
        "colab": {
          "base_uri": "https://localhost:8080/"
        },
        "id": "YI41vnVTMibq",
        "outputId": "982ee124-69ae-480a-a615-b13bca0cfb2b"
      },
      "execution_count": null,
      "outputs": [
        {
          "output_type": "execute_result",
          "data": {
            "text/plain": [
              "26"
            ]
          },
          "metadata": {},
          "execution_count": 52
        }
      ]
    },
    {
      "cell_type": "code",
      "source": [
        "#drop column of dataframe\n",
        "df_new=df.drop('mobile')"
      ],
      "metadata": {
        "id": "wdYC3v1UMl-4"
      },
      "execution_count": null,
      "outputs": []
    },
    {
      "cell_type": "code",
      "source": [
        "df_new.show(10)"
      ],
      "metadata": {
        "colab": {
          "base_uri": "https://localhost:8080/"
        },
        "id": "xYHQSqoyMn8R",
        "outputId": "dc4fd5e8-0115-4b1c-85b6-fbe1248b2fe1"
      },
      "execution_count": null,
      "outputs": [
        {
          "output_type": "stream",
          "name": "stdout",
          "text": [
            "+-------+---+----------+------+\n",
            "|ratings|age|experience|family|\n",
            "+-------+---+----------+------+\n",
            "|      3| 32|       9.0|     3|\n",
            "|      4| 22|       2.5|     0|\n",
            "|      5| 27|       6.0|     0|\n",
            "|      4| 22|       6.0|     1|\n",
            "|      3| 27|       6.0|     0|\n",
            "|      2| 32|      16.5|     2|\n",
            "|      4| 27|       9.0|     0|\n",
            "|      2| 27|       9.0|     2|\n",
            "|      3| 37|      16.5|     5|\n",
            "|      4| 27|       6.0|     1|\n",
            "+-------+---+----------+------+\n",
            "only showing top 10 rows\n",
            "\n"
          ]
        }
      ]
    },
    {
      "cell_type": "code",
      "source": [
        "#current working directory\n",
        "!pwd\n",
        "!pip install boto3"
      ],
      "metadata": {
        "colab": {
          "base_uri": "https://localhost:8080/"
        },
        "id": "jwZn-OFtMq7B",
        "outputId": "c5d87d2e-cf74-46c7-a22b-9984318177fa"
      },
      "execution_count": null,
      "outputs": [
        {
          "output_type": "stream",
          "name": "stdout",
          "text": [
            "/content\n",
            "Collecting boto3\n",
            "  Downloading boto3-1.34.116-py3-none-any.whl (139 kB)\n",
            "\u001b[2K     \u001b[90m━━━━━━━━━━━━━━━━━━━━━━━━━━━━━━━━━━━━━━━━\u001b[0m \u001b[32m139.3/139.3 kB\u001b[0m \u001b[31m3.6 MB/s\u001b[0m eta \u001b[36m0:00:00\u001b[0m\n",
            "\u001b[?25hCollecting botocore<1.35.0,>=1.34.116 (from boto3)\n",
            "  Downloading botocore-1.34.116-py3-none-any.whl (12.3 MB)\n",
            "\u001b[2K     \u001b[90m━━━━━━━━━━━━━━━━━━━━━━━━━━━━━━━━━━━━━━━━\u001b[0m \u001b[32m12.3/12.3 MB\u001b[0m \u001b[31m53.6 MB/s\u001b[0m eta \u001b[36m0:00:00\u001b[0m\n",
            "\u001b[?25hCollecting jmespath<2.0.0,>=0.7.1 (from boto3)\n",
            "  Downloading jmespath-1.0.1-py3-none-any.whl (20 kB)\n",
            "Collecting s3transfer<0.11.0,>=0.10.0 (from boto3)\n",
            "  Downloading s3transfer-0.10.1-py3-none-any.whl (82 kB)\n",
            "\u001b[2K     \u001b[90m━━━━━━━━━━━━━━━━━━━━━━━━━━━━━━━━━━━━━━━━\u001b[0m \u001b[32m82.2/82.2 kB\u001b[0m \u001b[31m9.3 MB/s\u001b[0m eta \u001b[36m0:00:00\u001b[0m\n",
            "\u001b[?25hRequirement already satisfied: python-dateutil<3.0.0,>=2.1 in /usr/local/lib/python3.10/dist-packages (from botocore<1.35.0,>=1.34.116->boto3) (2.8.2)\n",
            "Requirement already satisfied: urllib3!=2.2.0,<3,>=1.25.4 in /usr/local/lib/python3.10/dist-packages (from botocore<1.35.0,>=1.34.116->boto3) (2.0.7)\n",
            "Requirement already satisfied: six>=1.5 in /usr/local/lib/python3.10/dist-packages (from python-dateutil<3.0.0,>=2.1->botocore<1.35.0,>=1.34.116->boto3) (1.16.0)\n",
            "Installing collected packages: jmespath, botocore, s3transfer, boto3\n",
            "Successfully installed boto3-1.34.116 botocore-1.34.116 jmespath-1.0.1 s3transfer-0.10.1\n"
          ]
        }
      ]
    }
  ]
}